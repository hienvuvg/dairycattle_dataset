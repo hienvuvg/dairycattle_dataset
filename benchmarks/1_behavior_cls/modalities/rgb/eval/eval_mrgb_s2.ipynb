{
 "cells": [
  {
   "cell_type": "code",
   "execution_count": 1,
   "metadata": {},
   "outputs": [
    {
     "name": "stdout",
     "output_type": "stream",
     "text": [
      "\n",
      "MODALITY: M-RGB (S2) --------------------------------------------\n",
      "\n",
      "Total # of timestamps: 3\n",
      "\n",
      "fold_1:\n",
      "  chunk 5\n",
      "  # of timestamps: 0\n"
     ]
    },
    {
     "name": "stderr",
     "output_type": "stream",
     "text": [
      "0it [00:00, ?it/s]\n"
     ]
    },
    {
     "name": "stdout",
     "output_type": "stream",
     "text": [
      "\n",
      "fold_2:\n",
      "  chunk 1\n",
      "  # of timestamps: 3\n"
     ]
    },
    {
     "name": "stderr",
     "output_type": "stream",
     "text": [
      "100%|██████████| 3/3 [00:02<00:00,  1.24it/s]\n"
     ]
    },
    {
     "name": "stdout",
     "output_type": "stream",
     "text": [
      "\n",
      "fold_3:\n",
      "  chunk 2\n",
      "  # of timestamps: 0\n"
     ]
    },
    {
     "name": "stderr",
     "output_type": "stream",
     "text": [
      "0it [00:00, ?it/s]\n"
     ]
    },
    {
     "name": "stdout",
     "output_type": "stream",
     "text": [
      "\n",
      "fold_4:\n",
      "  chunk 3\n",
      "  # of timestamps: 0\n"
     ]
    },
    {
     "name": "stderr",
     "output_type": "stream",
     "text": [
      "0it [00:00, ?it/s]\n"
     ]
    },
    {
     "name": "stdout",
     "output_type": "stream",
     "text": [
      "\n",
      "fold_5:\n",
      "  chunk 4\n",
      "  # of timestamps: 0\n"
     ]
    },
    {
     "name": "stderr",
     "output_type": "stream",
     "text": [
      "0it [00:00, ?it/s]\n"
     ]
    }
   ],
   "source": [
    "\n",
    "import os\n",
    "\n",
    "import numpy as np\n",
    "import pandas as pd\n",
    "import argparse\n",
    "\n",
    "from datetime import datetime\n",
    "\n",
    "from utils.projection import cal_cam_coord\n",
    "from utils.read_proj_mat import read_projection_matrices\n",
    "from mrgb_proc import mrgb_proc\n",
    "from utils.cmb_eval import cmb_eval\n",
    "\n",
    "import pytz\n",
    "import yaml\n",
    "import json\n",
    "\n",
    "# Set a global time zone: Central Time\n",
    "CT_time_zone = pytz.timezone('America/Chicago')\n",
    "\n",
    "def search_files(folder_path, search_text, file_format=\".csv\"):\n",
    "    file_names = []\n",
    "    # Iterate over all files in the folder\n",
    "    for file_name in os.listdir(folder_path):\n",
    "        # print(file_name)\n",
    "        # Check if the file is a text file\n",
    "        if file_name.endswith(file_format):\n",
    "            # Check if the search text is present in the file name\n",
    "            if search_text in file_name:\n",
    "                file_names.append(file_name)\n",
    "    return sorted(file_names)\n",
    "\n",
    "def select_range(timestamps, point1, point2):\n",
    "    assert point1 != point2, f'Invalid range {point2} = {point1}'\n",
    "    # print(f'{point1} vs {point2}')\n",
    "    \n",
    "    if point1 > point2:\n",
    "        selected = [value for value in timestamps if point2 <= value < point1]\n",
    "    else:\n",
    "        selected = [value for value in timestamps if point1 <= value < point2]\n",
    "    return selected\n",
    "\n",
    "\n",
    "\n",
    "print('\\nMODALITY: M-RGB (S2) --------------------------------------------')\n",
    "\n",
    "date = '0725'\n",
    "behav_list = ['unknown', 'walking', 'standing', 'feed up', 'feed down', 'licking', 'drinking', 'lying']\n",
    "\n",
    "config = 's2'\n",
    "moda = 'M-RGB ' + config\n",
    "config_name = 'config_' + config + '.json'\n",
    "\n",
    "current_dir = os.getcwd()\n",
    "\n",
    "# parser = argparse.ArgumentParser(description='Test')\n",
    "# parser.add_argument('--path_dir', type=str, default=os.path.join(current_dir, 'private', \"path.yaml\"))\n",
    "# parser.add_argument('--config_dir', type=str, default=os.path.join(current_dir, 'private', config_name))   \n",
    "# args = parser.parse_args() \n",
    "\n",
    "yaml_dir = os.path.join(current_dir, 'private', \"path.yaml\")\n",
    "json_dir = os.path.join(current_dir, 'private', config_name)\n",
    "\n",
    "with open(yaml_dir, 'r') as file:\n",
    "    file_dirs = yaml.safe_load(file)\n",
    "sensor_data_dir = file_dirs['sensor_data_dir']\n",
    "\n",
    "with open(json_dir, 'r') as f:\n",
    "    config = json.load(f)\n",
    "\n",
    "sensor_data_dir = file_dirs['sensor_data_dir']\n",
    "visual_data_dir = file_dirs['visual_data_dir']\n",
    "behav_dir = os.path.join(sensor_data_dir, 'behavior_labels', 'individual')\n",
    "pred_label_dir = os.path.join(visual_data_dir, 'output_labels')\n",
    "proj_mat_dir = os.path.join(visual_data_dir, 'proj_mat')\n",
    "\n",
    "# print(\"proj mat: \", proj_mat_dir)\n",
    "\n",
    "Proj_cam_list = read_projection_matrices(proj_mat_dir, date)\n",
    "\n",
    "cam_coord = []\n",
    "for idx in range(4):\n",
    "    proj_mat = Proj_cam_list[idx]\n",
    "    cam_coord.append(cal_cam_coord(proj_mat))\n",
    "    # print(f\"Cam {idx+1} loc: {cal_cam_coord(proj_mat).astype(int)}\")\n",
    "cam_coord = np.asarray(cam_coord).reshape((4,3))\n",
    "\n",
    "# Read behavior labels\n",
    "behav_gt_list = []\n",
    "for cow_id in range(1,17):\n",
    "    csv_file = f'C{cow_id:02d}_{date}.csv' \n",
    "    behav_df = pd.read_csv(os.path.join(behav_dir, csv_file))\n",
    "    assert np.shape(behav_df)[1] == 3, f'Wrong csv'\n",
    "    behav_gt_list.append(behav_df)\n",
    "assert len(behav_gt_list) == 16, f'Missing behavior ground truth'\n",
    "\n",
    "# Extract timestamps from txt labels \n",
    "temp_list = []\n",
    "for i in range(1,5):\n",
    "    cam_name = f\"cam_{i:d}\"\n",
    "    folder_path = os.path.join(pred_label_dir, date, cam_name)\n",
    "    # print(folder_path)\n",
    "    filename_list = search_files(folder_path, search_text='_', file_format=\".txt\")\n",
    "    for single_filename in filename_list:\n",
    "        temp_list.append(int(single_filename[0:10]))\n",
    "temp_list = np.asarray(temp_list)\n",
    "combined_timestamps = list(np.unique(temp_list))\n",
    "combined_timestamps.sort() # must sort here\n",
    "print('\\nTotal # of timestamps:', str(len(combined_timestamps)))\n",
    "# print(combined_timestamps)\n",
    "\n",
    "\n",
    "group_1 = config['group_1']\n",
    "group_2 = config['group_2']\n",
    "folds = config['folds']\n",
    "\n",
    "id_list = range(1,17)\n",
    "\n",
    "# Convert datetime ranges to Unix timestamps\n",
    "def datetime_to_unix(dt_str):\n",
    "    dt = datetime.strptime(dt_str, '%Y-%m-%d %H:%M:%S')\n",
    "    dt = CT_time_zone.localize(dt)  # Localize the datetime object to the specified timezone\n",
    "    # print(datetime.fromtimestamp(int(dt.timestamp()), CT_time_zone))\n",
    "    return int(dt.timestamp())\n",
    "\n",
    "# Convert the time ranges to Unix timestamps\n",
    "for group in [group_1, group_2]:\n",
    "    for key, value in group.items():\n",
    "        group[key] = [datetime_to_unix(value[0]), datetime_to_unix(value[1])]\n",
    "\n",
    "# aggregated_acc = {}\n",
    "# aggregated_prec = {}\n",
    "# aggregated_recal = {}\n",
    "aggregated_f1 = {}\n",
    "y_pred_list = []\n",
    "y_test_list = []\n",
    "\n",
    "# Iterate over each fold and process the data\n",
    "for fold_name, fold_config in folds.items():\n",
    "    print(f\"\\n{fold_name}:\")\n",
    "        \n",
    "    chunk_name = fold_config['test']\n",
    "    print('  chunk', int(chunk_name[0]))\n",
    "    timestamp_chunk1 = select_range(combined_timestamps, int(group_1[chunk_name[0]][0]), int(group_1[chunk_name[0]][1]))\n",
    "    timestamp_chunk2 = select_range(combined_timestamps, int(group_2[chunk_name[0]][0]), int(group_2[chunk_name[0]][1]))\n",
    "    selected_timestamps = list(timestamp_chunk1) + list(timestamp_chunk2)\n",
    "    print('  # of timestamps:', len(selected_timestamps))\n",
    "\n",
    "    y_pred, y_test = mrgb_proc(id_list, selected_timestamps, behav_gt_list, cam_coord, Proj_cam_list, pred_label_dir)\n",
    "    acc_dict, prec_dict, recal_dict, f1_dict = cmb_eval(y_pred, y_test)\n",
    "\n",
    "\n",
    "    for key, value in f1_dict.items():\n",
    "        if key not in aggregated_f1:\n",
    "            aggregated_f1[key] = []\n",
    "        aggregated_f1[key].append(value)\n",
    "    \n",
    "    if len(y_pred) > 0:\n",
    "        y_pred_list.append(y_pred)\n",
    "        y_test_list.append(y_test)"
   ]
  },
  {
   "cell_type": "code",
   "execution_count": 2,
   "metadata": {},
   "outputs": [
    {
     "name": "stdout",
     "output_type": "stream",
     "text": [
      "\n",
      "RESULTS: M-RGB s2\n",
      "\tClass 2 F1: 1.000±0.000  (standing)\n",
      "\tClass 3 F1: 1.000±0.000  (feed up)\n",
      "\tClass 4 F1: 1.000±0.000  (feed down)\n",
      "\tMacro avg F1: 1.000±0.000\n"
     ]
    }
   ],
   "source": [
    "# Calculate mean and standard deviation for each key\n",
    "mean_std_results = {key: (np.mean(values), np.std(values)) for key, values in aggregated_f1.items()}\n",
    "\n",
    "print('\\nRESULTS:', moda)\n",
    "for key, (mean, std) in mean_std_results.items():\n",
    "    print(f\"\\tClass {key} F1: {mean:.3f}±{std:.3f}  ({behav_list[int(key)]})\")\n",
    "\n",
    "# Extract the mean F1 scores and standard deviations\n",
    "mean_f1_scores = [mean for mean, std in mean_std_results.values()]\n",
    "std_f1_scores = [std for mean, std in mean_std_results.values()]\n",
    "macro_average_f1 = np.mean(mean_f1_scores)\n",
    "average_error_f1 = np.mean(std_f1_scores)\n",
    "\n",
    "print(f\"\\tMacro avg F1: {macro_average_f1:.3f}±{average_error_f1:.3f}\")"
   ]
  },
  {
   "cell_type": "code",
   "execution_count": 3,
   "metadata": {},
   "outputs": [
    {
     "name": "stdout",
     "output_type": "stream",
     "text": [
      "              precision    recall  f1-score   support\n",
      "\n",
      "           2       1.00      1.00      1.00         6\n",
      "           3       1.00      1.00      1.00         3\n",
      "           4       1.00      1.00      1.00         6\n",
      "\n",
      "    accuracy                           1.00        15\n",
      "   macro avg       1.00      1.00      1.00        15\n",
      "weighted avg       1.00      1.00      1.00        15\n",
      "\n"
     ]
    }
   ],
   "source": [
    "from sklearn.metrics import confusion_matrix\n",
    "from sklearn.metrics import classification_report\n",
    "\n",
    "y_pred = np.asarray(y_pred_list).flatten()\n",
    "y_test = np.asarray(y_test_list).flatten()\n",
    "\n",
    "print(classification_report(y_test, y_pred))"
   ]
  },
  {
   "cell_type": "code",
   "execution_count": 4,
   "metadata": {},
   "outputs": [
    {
     "data": {
      "image/png": "[encoded data removed]",
      "text/plain": [
       "<Figure size 600x400 with 2 Axes>"
      ]
     },
     "metadata": {},
     "output_type": "display_data"
    }
   ],
   "source": [
    "import matplotlib.pyplot as plt\n",
    "\n",
    "conf_mat = confusion_matrix(y_test, y_pred)\n",
    "\n",
    "plt.figure(figsize=(6, 4))\n",
    "plt.imshow(conf_mat, cmap=plt.cm.Blues)\n",
    "plt.title('Confusion Matrix')\n",
    "plt.colorbar()\n",
    "tick_marks = np.arange(1,8)\n",
    "tick_marks_range = tick_marks - 1\n",
    "plt.xticks(tick_marks_range, tick_marks)#, rotation=45)\n",
    "plt.yticks(tick_marks_range, tick_marks)\n",
    "plt.xlabel('Predicted Label')\n",
    "plt.ylabel('True Label')\n",
    "for i in range(conf_mat.shape[0]):\n",
    "    for j in range(conf_mat.shape[1]):\n",
    "        plt.text(j, i, format(conf_mat[i, j], 'd'),\n",
    "                horizontalalignment=\"center\",\n",
    "                color=\"white\" if conf_mat[i, j] > conf_mat.max() / 2. else \"black\")\n",
    "plt.show()"
   ]
  }
 ],
 "metadata": {
  "kernelspec": {
   "display_name": "virtual_env",
   "language": "python",
   "name": "python3"
  },
  "language_info": {
   "codemirror_mode": {
    "name": "ipython",
    "version": 3
   },
   "file_extension": ".py",
   "mimetype": "text/x-python",
   "name": "python",
   "nbconvert_exporter": "python",
   "pygments_lexer": "ipython3",
   "version": "3.8.19"
  }
 },
 "nbformat": 4,
 "nbformat_minor": 2
}
